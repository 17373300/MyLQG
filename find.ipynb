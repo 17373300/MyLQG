{
 "cells": [
  {
   "cell_type": "code",
   "execution_count": 13,
   "metadata": {},
   "outputs": [],
   "source": [
    "import jieba\n",
    "import jieba.posseg as pseg\n",
    "import os\n",
    "import re\n",
    "from gensim import corpora, models, similarities"
   ]
  },
  {
   "cell_type": "code",
   "execution_count": 14,
   "metadata": {},
   "outputs": [],
   "source": [
    "stopwords = []\n",
    "i=0\n",
    "for line in open(\"data\\\\train\\\\vocab.txt.20k\", encoding='utf-8'):\n",
    "    fields = line.split(' ')\n",
    "    label = fields[0]\n",
    "    stopwords.append(label)\n",
    "    i=i+1\n",
    "    if i==150:\n",
    "        break"
   ]
  },
  {
   "cell_type": "code",
   "execution_count": 15,
   "metadata": {},
   "outputs": [],
   "source": [
    "with open(\"data\\\\stop.txt\", encoding='utf-8') as f:\n",
    "    for line in f.readlines():\n",
    "        stopwords.append(line.strip('\\n'))\n",
    "stopwords.append(' ')\n",
    "stopwords.append('\\n')"
   ]
  },
  {
   "cell_type": "code",
   "execution_count": 16,
   "metadata": {},
   "outputs": [
    {
     "name": "stdout",
     "output_type": "stream",
     "text": [
      "2045\n"
     ]
    }
   ],
   "source": [
    "print(len(stopwords))"
   ]
  },
  {
   "cell_type": "code",
   "execution_count": 17,
   "metadata": {},
   "outputs": [],
   "source": [
    "def tokenization(filename):     \n",
    "    result = []    \n",
    "    with open(filename, 'r',encoding='utf-8') as f: \n",
    "        text = f.read()\n",
    "        words = jieba.cut(text)    \n",
    "    for word in words:\n",
    "        if word not in stopwords:\n",
    "            result.append(word)\n",
    "    # print(filename, len(result))\n",
    "    return result"
   ]
  },
  {
   "cell_type": "code",
   "execution_count": 18,
   "metadata": {},
   "outputs": [],
   "source": [
    "def tokenization(filename):     \n",
    "    result = []\n",
    "    for line in open(filename, encoding='utf-8'):\n",
    "        if len(line.strip())==0:\n",
    "            continue\n",
    "        line_word=[]\n",
    "        words = jieba.cut(line)   \n",
    "        for word in words:\n",
    "            if word not in stopwords:\n",
    "                line_word.append(word)\n",
    "        result.append(line_word)\n",
    "    print(filename,len(result))\n",
    "    return result"
   ]
  },
  {
   "cell_type": "code",
   "execution_count": 19,
   "metadata": {},
   "outputs": [
    {
     "name": "stdout",
     "output_type": "stream",
     "text": [
      "data/law\\刑事诉讼法\\第一章  刑事诉讼法概述.txt 78\n",
      "data/law\\刑事诉讼法\\第七章  刑事证据.txt 211\n",
      "data/law\\刑事诉讼法\\第三章  刑事诉讼中的专门机关和诉讼参与人.txt 142\n",
      "data/law\\刑事诉讼法\\第九章  附带民事诉讼.txt 51\n",
      "data/law\\刑事诉讼法\\第二十一章 当事人和解的公诉案件诉讼程序.txt 39\n",
      "data/law\\刑事诉讼法\\第二十三章 依法不负刑事责任的精神病人的强制医疗程序.txt 42\n",
      "data/law\\刑事诉讼法\\第二十二章 犯罪嫌疑人、被告人逃匿、死亡案件违法所得的没收程序.txt 48\n",
      "data/law\\刑事诉讼法\\第二十四章 涉外刑事诉讼程序与司法协助制度.txt 46\n",
      "data/law\\刑事诉讼法\\第二十章  未成年人刑事案件诉讼程序.txt 95\n",
      "data/law\\刑事诉讼法\\第二章  刑事诉讼法的基本原则.txt 81\n",
      "data/law\\刑事诉讼法\\第五章  回避.txt 40\n",
      "data/law\\刑事诉讼法\\第八章  强制措施.txt 180\n",
      "data/law\\刑事诉讼法\\第六章  辩护与代理.txt 103\n",
      "data/law\\刑事诉讼法\\第十一章  立案.txt 67\n",
      "data/law\\刑事诉讼法\\第十七章  死刑复核程序.txt 67\n",
      "data/law\\刑事诉讼法\\第十三章  起诉.txt 148\n",
      "data/law\\刑事诉讼法\\第十九章  执行.txt 167\n",
      "data/law\\刑事诉讼法\\第十二章  侦查.txt 219\n",
      "data/law\\刑事诉讼法\\第十五章  第一审程序.txt 416\n",
      "data/law\\刑事诉讼法\\第十八章 审判监督程序.txt 124\n",
      "data/law\\刑事诉讼法\\第十六章  第二审程序.txt 240\n",
      "data/law\\刑事诉讼法\\第十四章  刑事审判概述.txt 184\n",
      "data/law\\刑事诉讼法\\第十章  期间、送达.txt 47\n",
      "data/law\\刑事诉讼法\\第四章  管辖.txt 72\n",
      "data/law\\刑法\\第一章  刑法概说.txt 57\n",
      "data/law\\刑法\\第七章  单位犯罪.txt 25\n",
      "data/law\\刑法\\第三十一章  妨害社会管理秩序罪（5）：危害公共卫生罪.txt 32\n",
      "data/law\\刑法\\第三十七章  贪污贿赂罪.txt 80\n",
      "data/law\\刑法\\第三十三章  妨害社会管理秩序罪（7）走私、贩卖、运输、制造.txt 44\n",
      "data/law\\刑法\\第三十三章  妨害社会管理秩序罪（7）：走私、贩卖、运输、制造毒品罪.txt 45\n",
      "data/law\\刑法\\第三十九章  军人违反职责罪.txt 16\n",
      "data/law\\刑法\\第三十二章  妨害社会管理秩序罪（6）：破坏环境资源保护罪.txt 29\n",
      "data/law\\刑法\\第三十五章  妨害社会管理秩序罪（9）：制作、贩卖、传播淫秽物品罪.txt 17\n",
      "data/law\\刑法\\第三十八章  渎职罪.txt 59\n",
      "data/law\\刑法\\第三十六章  危害国防利益罪.txt 17\n",
      "data/law\\刑法\\第三十四章  妨害社会管理秩序罪（8）：组织、强迫、引诱、容留、介绍卖淫罪.txt 24\n",
      "data/law\\刑法\\第三十章  妨害社会管理秩序罪（4）：妨害文物管理罪.txt 17\n",
      "data/law\\刑法\\第三章  犯罪构成.txt 159\n",
      "data/law\\刑法\\第九章  刑罚概说.txt 21\n",
      "data/law\\刑法\\第二十一章  破坏社会主义市场经济秩序罪（5）：金融诈骗罪.txt 40\n",
      "data/law\\刑法\\第二十七章  妨害社会管理秩序罪（1）：扰乱公共秩序罪.txt 103\n",
      "data/law\\刑法\\第二十三章  破坏社会主义市场经济秩序罪（7）：侵犯知识产权罪.txt 34\n",
      "data/law\\刑法\\第二十九章  妨害社会管理秩序罪（3）：妨害国（边）境管理罪.txt 16\n",
      "data/law\\刑法\\第二十二章  破坏社会主义市场经济秩序罪（6）：危害税收征管罪.txt 32\n",
      "data/law\\刑法\\第二十五章  侵犯公民人身权利、民主权利罪.txt 219\n",
      "data/law\\刑法\\第二十八章  妨害社会管理秩序罪（2）：妨害司法罪.txt 52\n",
      "data/law\\刑法\\第二十六章  侵犯财产罪.txt 130\n",
      "data/law\\刑法\\第二十四章  破坏社会主义市场经济秩序罪（8）：扰乱市场秩序罪.txt 41\n",
      "data/law\\刑法\\第二十章  破坏社会主义市场经济秩序罪（4）：破坏金融管理秩序罪.txt 55\n",
      "data/law\\刑法\\第二章  犯罪概说.txt 38\n",
      "data/law\\刑法\\第五章  犯罪未完成形态.txt 61\n",
      "data/law\\刑法\\第八章  罪数形态.txt 48\n",
      "data/law\\刑法\\第六章  共同犯罪.txt 80\n",
      "data/law\\刑法\\第十一章  刑罚裁量.txt 147\n",
      "data/law\\刑法\\第十七章  破坏社会主义市场经济秩序罪（1）：生产、销售伪劣商品罪.txt 43\n",
      "data/law\\刑法\\第十三章  刑罚消灭.txt 45\n",
      "data/law\\刑法\\第十九章  破坏社会主义市场经济秩序罪（3）：妨害对公司、企业的管理秩序罪.txt 28\n",
      "data/law\\刑法\\第十二章  刑罚执行.txt 41\n",
      "data/law\\刑法\\第十五章  危害国家安全罪.txt 22\n",
      "data/law\\刑法\\第十八章  破坏社会主义市场经济秩序罪（2）：走私罪.txt 33\n",
      "data/law\\刑法\\第十六章  危害公共安全罪.txt 92\n",
      "data/law\\刑法\\第十四章  罪刑各论概说.txt 63\n",
      "data/law\\刑法\\第十章  刑罚种类.txt 90\n",
      "data/law\\刑法\\第四章  犯罪排除事由.txt 61\n",
      "data/law\\商法\\第一章公司法.txt 598\n",
      "data/law\\商法\\第七章.txt 438\n",
      "data/law\\商法\\第三章个人独资企业法.txt 93\n",
      "data/law\\商法\\第九章.txt 353\n",
      "data/law\\商法\\第二章合伙企业法.txt 166\n",
      "data/law\\商法\\第五章企业破产法.txt 411\n",
      "data/law\\商法\\第八章保险法.txt 308\n",
      "data/law\\商法\\第六章票据法.txt 308\n",
      "data/law\\商法\\第四章外商投资企业法.txt 176\n",
      "data/law\\民事诉讼法\\第一章.txt 36\n",
      "data/law\\民事诉讼法\\第七章.txt 60\n",
      "data/law\\民事诉讼法\\第三章.txt 162\n",
      "data/law\\民事诉讼法\\第九章.txt 43\n",
      "data/law\\民事诉讼法\\第二十一章.txt 160\n",
      "data/law\\民事诉讼法\\第二十七章  申请撤销仲裁裁决.txt 81\n",
      "data/law\\民事诉讼法\\第二十三章  仲裁与仲裁法概述.txt 64\n",
      "data/law\\民事诉讼法\\第二十九章  涉外仲裁.txt 82\n",
      "data/law\\民事诉讼法\\第二十二章  涉外民事诉讼程序.txt 58\n",
      "data/law\\民事诉讼法\\第二十五章  仲裁协议.txt 81\n",
      "data/law\\民事诉讼法\\第二十八章  仲裁裁决的执行与不予执行.txt 86\n",
      "data/law\\民事诉讼法\\第二十六章  仲裁程序.txt 220\n",
      "data/law\\民事诉讼法\\第二十四章  仲裁委员会和仲裁协会.txt 37\n",
      "data/law\\民事诉讼法\\第二十章.txt 55\n",
      "data/law\\民事诉讼法\\第二章.txt 74\n",
      "data/law\\民事诉讼法\\第五章.txt 192\n",
      "data/law\\民事诉讼法\\第八章.txt 113\n",
      "data/law\\民事诉讼法\\第六章.txt 42\n",
      "data/law\\民事诉讼法\\第十一章.txt 97\n",
      "data/law\\民事诉讼法\\第十七章.txt 125\n",
      "data/law\\民事诉讼法\\第十三章.txt 136\n",
      "data/law\\民事诉讼法\\第十九章.txt 62\n",
      "data/law\\民事诉讼法\\第十二章.txt 48\n",
      "data/law\\民事诉讼法\\第十五章.txt 67\n",
      "data/law\\民事诉讼法\\第十八章.txt 45\n",
      "data/law\\民事诉讼法\\第十六章.txt 100\n",
      "data/law\\民事诉讼法\\第十四章.txt 68\n",
      "data/law\\民事诉讼法\\第十章.txt 55\n",
      "data/law\\民事诉讼法\\第四章.txt 49\n",
      "data/law\\民法\\第一章.txt 143\n",
      "data/law\\民法\\第七章.txt 170\n",
      "data/law\\民法\\第三十一章.txt 96\n",
      "data/law\\民法\\第三十二章特殊侵权责任.txt 117\n",
      "data/law\\民法\\第三十章.txt 82\n",
      "data/law\\民法\\第三章.txt 144\n",
      "data/law\\民法\\第九章  共有.txt 63\n",
      "data/law\\民法\\第二十一章.txt 156\n",
      "data/law\\民法\\第二十七章.txt 42\n",
      "data/law\\民法\\第二十三章.txt 92\n",
      "data/law\\民法\\第二十九章.txt 65\n",
      "data/law\\民法\\第二十二章.txt 57\n",
      "data/law\\民法\\第二十五章.txt 177\n",
      "data/law\\民法\\第二十八章.txt 88\n",
      "data/law\\民法\\第二十六章.txt 33\n",
      "data/law\\民法\\第二十四章.txt 72\n",
      "data/law\\民法\\第二十章.txt 53\n",
      "data/law\\民法\\第二章.txt 100\n",
      "data/law\\民法\\第五章.txt 98\n",
      "data/law\\民法\\第八章.txt 157\n",
      "data/law\\民法\\第六章.txt 61\n",
      "data/law\\民法\\第十一章  担保物权.txt 251\n",
      "data/law\\民法\\第十七章  不当得利、无因管理.txt 84\n",
      "data/law\\民法\\第十三章  债的概述.txt 85\n",
      "data/law\\民法\\第十九章.txt 45\n",
      "data/law\\民法\\第十二章  占有.txt 65\n",
      "data/law\\民法\\第十五章  债的保全和担保.txt 148\n",
      "data/law\\民法\\第十八章  合同的订立和履行.txt 128\n",
      "data/law\\民法\\第十六章  债的移转和消灭.txt 131\n",
      "data/law\\民法\\第十四章  债的履行.txt 49\n",
      "data/law\\民法\\第十章  用益物权.txt 117\n",
      "data/law\\民法\\第四章.txt 114\n",
      "data/law\\经济法\\第一章  竞争法.txt 181\n",
      "data/law\\经济法\\第三章  银行业法.txt 163\n",
      "data/law\\经济法\\第二章  消费者法.txt 290\n",
      "data/law\\经济法\\第五章  土地法和房地产法.txt 302\n",
      "data/law\\经济法\\第四章  财税法.txt 247\n",
      "139\n"
     ]
    }
   ],
   "source": [
    "corpus = []\n",
    "dirname = 'data/law'\n",
    "filenames = []\n",
    "for root,dirs,files in os.walk(dirname):    \n",
    "    for f in files:\n",
    "        # print(os.path.join(root, f))\n",
    "        # corpus.append(tokenization(os.path.join(root, f))) \n",
    "        corpus = corpus+tokenization(os.path.join(root, f))\n",
    "        filenames.append(os.path.join(root, f))\n",
    "dictionary = corpora.Dictionary(corpus)\n",
    "print (len(filenames))\n"
   ]
  },
  {
   "cell_type": "code",
   "execution_count": 20,
   "metadata": {},
   "outputs": [
    {
     "name": "stdout",
     "output_type": "stream",
     "text": [
      "14978\n"
     ]
    }
   ],
   "source": [
    "print(len(corpus))"
   ]
  },
  {
   "cell_type": "code",
   "execution_count": 21,
   "metadata": {},
   "outputs": [],
   "source": [
    "doc_vectors = [dictionary.doc2bow(text) for text in corpus] \n",
    "tfidf = models.TfidfModel(doc_vectors)"
   ]
  },
  {
   "cell_type": "code",
   "execution_count": 22,
   "metadata": {},
   "outputs": [
    {
     "name": "stdout",
     "output_type": "stream",
     "text": [
      "本院经审理认定事实如下:2014年8月6日,被告与光大银行签订《阳光个人小额信用贷款合同》,约定:被告向x7银贵阳分行行贷款50000元;贷款期限为36个月,自2014年8月6日至2017年8月6日至;贷款年利率按年利率8.61%执行;贷款按月分36期对日偿还(贷款发放日作为每期还款日,还款日为每月6日);若贷款逾期归还,光大银行贵阳分行有权宣布贷款立即到期,并要求借款人立即偿还全部贷款本金、利息即其他应付款项;该合同一式三份,由借款人、贷款人、保险公司各执一份(合同贷款细节约定第12项)随即被告作为投保人,以光大银行贵阳分行为被保险人在原告处投保个人贷款保险,原告向被告出具《阳光个人贷款保证保险单》(保险单号码:P220920140806006956),被告在保险单投保人处签名、捺手印保险单载明:保险金额为59450元;保险期间为贷款发生之日至约定的清偿全部贷款本息之日;每月保费为900元,保费按月支付;投保人拖欠任何一期应偿贷款达到80日,保险人依据保险合同对保险人进行赔偿;保险人向被保险人赔付后,有权向投保人追偿,投保人需向保险人归还全部赔偿款及应付而未付的保险费(应付而未付保险费至投保人自贷款发放之日至理赔之日止未支付的保险费);从保险人赔偿当日开始30天,投保人未向保险人归还全部赔偿款,视为投保人违约,投保人需以尚欠全部款项为基数,从保险人赔偿当日开始计算,按每日万分之五向保险人交纳违约金;保险人有权向投保人催回应付而未付的保险费、赔偿款项、违约金、理赔及催收产生的其他费用同日,光大银行向被告发放贷款50000元,被告在光大银行贵阳分行贷款借据中借款人处签字予以认可2016年2月26日,被告最后一次归还借款,未再履行还款及支付保费义务2016年4月27日,原告按照保单约定,履行代偿义务,分四笔向x7银行贵阳分行代偿本息共计27852.59元光大银行贵阳分行向原告向出具《代偿债务与权益转让确认书》,载明,个人贷款保证保险(保险单号码:P220920140806006956)保单项下的代偿款27852.59元已于2016年4月27日收到,同意将对借款人(投保人)追偿的全部利益转让给原告原告为本案支付了6000元律师费\n",
      "<generator object Tokenizer.cut at 0x0000018E6E9EDC10>\n",
      "['当事人', '权利', '义务', '借款人', '义务', '归还', '本金', '利息', '无偿', '借款人', '须', '归还', '本金', '有偿', '借款人', '除须', '归还', '本金', '外', '利息'] 0.2501116\n",
      "['保险合同', '分论', '人身保险', '人身保险', '若干', '规则', '人身保险', '如实', '申报', '被保险人', '年龄', '申报', '被保险人', '年龄', '真实', '将会', '导致', '法律', '后果', '表现', '保险费', '更正', '补交', '保险金', '减少', '申报', '被保险人', '年龄', '真实', '致使', '保险费', '少于', '应付', '保险费', '有权', '更正', '补交', '保险费', '给付', '保险金', '实付', '保险费', '应付', '保险费', '比例'] 0.18264088\n",
      "['债', '担保', '保证', '保证', '概念', '种类', '保证', '条件', '指出', '担保法', '保证', '资格', '强制性', '保证', '代偿', '能力', '保证', '法律效力', '最高人民法院', '担保法', '解释', '14', '条', '代偿', '能力', '法人', '组织', '自然人', '保证', '身份', '订立', '保证', '代偿', '能力', '免除', '保证', '人民法院', '不予', '支持'] 0.18209678\n"
     ]
    }
   ],
   "source": [
    "import pickle\n",
    "f = open('data/example/train.pkl', 'rb')\n",
    "train_example=pickle.load(f)\n",
    "\n",
    "test_string=train_example[1].context_text\n",
    "print(test_string)\n",
    "test_doc_list=[]\n",
    "words = jieba.cut(test_string)  \n",
    "print(words)  \n",
    "for word in words:\n",
    "    if word not in stopwords:\n",
    "        test_doc_list.append(word)\n",
    "\n",
    "test_doc_vec=dictionary.doc2bow(test_doc_list)\n",
    "index = similarities.SparseMatrixSimilarity(tfidf[doc_vectors], num_features=len(dictionary.keys()))\n",
    "sim = index[tfidf[test_doc_vec]]\n",
    "scores=sorted(enumerate(sim), key=lambda item: -item[1])  # 排序\n",
    "for i in range(3):\n",
    "    print(corpus[scores[i][0]],scores[i][1])"
   ]
  },
  {
   "cell_type": "code",
   "execution_count": 23,
   "metadata": {},
   "outputs": [
    {
     "name": "stdout",
     "output_type": "stream",
     "text": [
      "['当事人', '权利', '义务', '借款人', '义务', '归还', '本金', '利息', '无偿', '借款人', '须', '归还', '本金', '有偿', '借款人', '除须', '归还', '本金', '外', '利息'] 0.2501116\n",
      "['保险合同', '分论', '人身保险', '人身保险', '若干', '规则', '人身保险', '如实', '申报', '被保险人', '年龄', '申报', '被保险人', '年龄', '真实', '将会', '导致', '法律', '后果', '表现', '保险费', '更正', '补交', '保险金', '减少', '申报', '被保险人', '年龄', '真实', '致使', '保险费', '少于', '应付', '保险费', '有权', '更正', '补交', '保险费', '给付', '保险金', '实付', '保险费', '应付', '保险费', '比例'] 0.18264088\n",
      "['债', '担保', '保证', '保证', '概念', '种类', '保证', '条件', '指出', '担保法', '保证', '资格', '强制性', '保证', '代偿', '能力', '保证', '法律效力', '最高人民法院', '担保法', '解释', '14', '条', '代偿', '能力', '法人', '组织', '自然人', '保证', '身份', '订立', '保证', '代偿', '能力', '免除', '保证', '人民法院', '不予', '支持'] 0.18209678\n",
      "['保险合同', '总论', '保险合同', '履行', '义务', '保险法', '14', '条', '保险合同', '成立', '交付', '保险费', '时间', '承担', '保险费', '交付', '保险合同', '效力', '先决条件', '保险合同', '期限内', '标的', '危险', '增加', '增加', '保险费', '交纳', '增加', '保险费', '危险', '降低', '减交', '保险费', '被保险人', '履行', '标的', '防损', '增加', '保险费', '增加', '交纳', '保险费', '申报', '被保险人', '年龄', '不实', '致使', '缴纳', '保险费', '少于', '应付', '保险费', '补交', '保险费', '保险合同', '缴纳', '保险费', '催告', '缴纳', '保险费', '利息', '法律', '解除', '终止', '保险合同', '保险法', '保险合同', '效力', '另有', '保险合同', '缴纳', '保险费', '解除', '终止', '保险合同'] 0.17940298\n"
     ]
    }
   ],
   "source": [
    "for i in range(4):\n",
    "    print(corpus[scores[i][0]],scores[i][1])"
   ]
  }
 ],
 "metadata": {
  "interpreter": {
   "hash": "fd034ed54560f0698c2946b7ca675e493afbd7ee3c0ecf162ae3deac3cf4477b"
  },
  "kernelspec": {
   "display_name": "Python 3.8.11 ('pytorch')",
   "language": "python",
   "name": "python3"
  },
  "language_info": {
   "codemirror_mode": {
    "name": "ipython",
    "version": 3
   },
   "file_extension": ".py",
   "mimetype": "text/x-python",
   "name": "python",
   "nbconvert_exporter": "python",
   "pygments_lexer": "ipython3",
   "version": "3.8.11"
  },
  "orig_nbformat": 4
 },
 "nbformat": 4,
 "nbformat_minor": 2
}
